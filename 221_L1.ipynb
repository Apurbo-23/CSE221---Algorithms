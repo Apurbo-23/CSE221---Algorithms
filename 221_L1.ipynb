{
  "nbformat": 4,
  "nbformat_minor": 0,
  "metadata": {
    "colab": {
      "provenance": [],
      "authorship_tag": "ABX9TyOZAjYJBTl100HZZcaiyggS"
    },
    "kernelspec": {
      "name": "python3",
      "display_name": "Python 3"
    },
    "language_info": {
      "name": "python"
    }
  },
  "cells": [
    {
      "cell_type": "code",
      "execution_count": null,
      "metadata": {
        "id": "gNRKKRgeKtR_"
      },
      "outputs": [],
      "source": [
        "t = int(input())\n",
        "list_1 = [int(input()) for i in range(t)]\n",
        "for i in list_1:\n",
        "    if i%2==0:\n",
        "        print(f\"{i} is an Even number.\")\n",
        "    else:\n",
        "        print(f\"{i} is an Odd number.\")"
      ]
    },
    {
      "cell_type": "code",
      "source": [
        "t = int(input())\n",
        "for i in range(t):\n",
        "    n = input().split(\" \")\n",
        "    if n[2] == \"+\":\n",
        "        result = round(int(n[1])+int(n[3]),6)\n",
        "        print(result)\n",
        "\n",
        "    elif n[2] == \"-\":\n",
        "        result = round(int(n[1])-int(n[3]),6)\n",
        "        print(result)\n",
        "\n",
        "    elif n[2] == \"*\":\n",
        "        result = round(int(n[1])*int(n[3]),6)\n",
        "        print(result)\n",
        "\n",
        "    elif n[2] == \"/\":\n",
        "        result = round(int(n[1])/int(n[3]),6)\n",
        "        print(result)"
      ],
      "metadata": {
        "id": "rDFCw9mjLJzz"
      },
      "execution_count": null,
      "outputs": []
    },
    {
      "cell_type": "code",
      "source": [
        "t = int(input())\n",
        "\n",
        "for i in range(t):\n",
        "    n = int(input())\n",
        "    result = (n*(n+1))//2\n",
        "    print(result)"
      ],
      "metadata": {
        "id": "Sf3DqNxBLdk_"
      },
      "execution_count": null,
      "outputs": []
    },
    {
      "cell_type": "code",
      "source": [
        "t = int(input())\n",
        "for i in range(t):\n",
        "    n = int(input())\n",
        "    str_1 = input().split(\" \")\n",
        "    arr = [int(i) for i in str_1]\n",
        "    flag = True\n",
        "    for j in range(len(arr)-1):\n",
        "        if int(arr[j])>int(arr[j+1]):\n",
        "            flag = False\n",
        "            print(\"NO\")\n",
        "            break\n",
        "    if flag:\n",
        "        print(\"YES\")"
      ],
      "metadata": {
        "id": "URkPnpEALrJz"
      },
      "execution_count": null,
      "outputs": []
    },
    {
      "cell_type": "code",
      "source": [
        "t = int(input())\n",
        "str_1 = input().split(\" \")\n",
        "arr = [int(i) for i in str_1]\n",
        "\n",
        "for i in range(len(arr)-1):\n",
        "    for j in range(i+2,len(arr),2):\n",
        "        if arr[i]>arr[j]:\n",
        "            arr[i],arr[j] = arr[j],arr[i]\n",
        "\n",
        "flag = True\n",
        "for j in range(len(arr)-1):\n",
        "    if arr[j]>arr[j+1]:\n",
        "        flag = False\n",
        "        print(\"NO\")\n",
        "        break\n",
        "if flag:\n",
        "    print(\"YES\")"
      ],
      "metadata": {
        "id": "-cedaGKkLu32"
      },
      "execution_count": null,
      "outputs": []
    },
    {
      "cell_type": "code",
      "source": [
        "t = int(input())\n",
        "str_1 = input().split(\" \")\n",
        "arr = [int(i) for i in str_1]\n",
        "for i in range(len(arr)-1):\n",
        "    for j in range(len(arr)-1):\n",
        "        if arr[j]>arr[j+1] and arr[j]%2==0 and arr[j+1]%2==0:\n",
        "            arr[j],arr[j+1] = arr[j+1],arr[j]\n",
        "        elif arr[j]>arr[j+1] and arr[j]%2!=0 and arr[j+1]%2!=0:\n",
        "            arr[j],arr[j+1] = arr[j+1],arr[j]\n",
        "for i in arr:\n",
        "    print(i,end=\" \")"
      ],
      "metadata": {
        "id": "GRYCpuCwLykL"
      },
      "execution_count": null,
      "outputs": []
    },
    {
      "cell_type": "code",
      "source": [
        "t = int(input())\n",
        "str_1 = input().split()\n",
        "id = [int(i) for i in str_1]\n",
        "str_2 = input().split()\n",
        "marks = [int(i) for i in str_2]\n",
        "\n",
        "swap  = 0\n",
        "for i in range(t):\n",
        "    max_idx = i\n",
        "    for j in range(i+1,t):\n",
        "        if marks[j]==marks[max_idx] and id[j]<id[max_idx] or marks[j]>marks[max_idx]:\n",
        "            max_idx = j\n",
        "    if max_idx != i:\n",
        "        marks[i],marks[max_idx] = marks[max_idx],marks[i]\n",
        "        id[i],id[max_idx] = id[max_idx],id[i]\n",
        "        swap +=1\n",
        "\n",
        "print(f\"Minimum swaps: {swap}\")\n",
        "for i in range(t):\n",
        "    print(f\"ID: {int(id[i])} Mark: {int(marks[i])}\")"
      ],
      "metadata": {
        "id": "hW9P0qusLznT"
      },
      "execution_count": null,
      "outputs": []
    },
    {
      "cell_type": "code",
      "source": [
        "n = int(input())\n",
        "arr = []\n",
        "for _ in range(n):\n",
        "    name,w1,w2,w3,dst,w4,time = input().split()\n",
        "    m,s = time.split(':')\n",
        "    arr.append([name,dst,m,s])\n",
        "\n",
        "\n",
        "\n",
        "for i in range(n-1):\n",
        "    for j in range(n-1-i):\n",
        "        if arr[j][0] > arr[j+1][0]:\n",
        "            arr[j],arr[j+1] = arr[j+1],arr[j]\n",
        "        elif (arr[j][0] == arr[j+1][0]) and (int(arr[j][2])*60+int(arr[j][3])<int(arr[j+1][2])*60+int(arr[j+1][3])):\n",
        "            arr[j],arr[j+1] = arr[j+1],arr[j]\n",
        "\n",
        "\n",
        "\n",
        "for name,dst,m,s in arr:\n",
        "    print(f\"{name} will departure for {dst} at {m}:{s}\")"
      ],
      "metadata": {
        "id": "Z6bHGND4Lzs0"
      },
      "execution_count": null,
      "outputs": []
    }
  ]
}