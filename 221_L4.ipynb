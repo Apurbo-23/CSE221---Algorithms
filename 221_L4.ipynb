{
  "nbformat": 4,
  "nbformat_minor": 0,
  "metadata": {
    "colab": {
      "provenance": [],
      "authorship_tag": "ABX9TyOQ6aVicDHW4v6x73SeX/5j"
    },
    "kernelspec": {
      "name": "python3",
      "display_name": "Python 3"
    },
    "language_info": {
      "name": "python"
    }
  },
  "cells": [
    {
      "cell_type": "code",
      "execution_count": null,
      "metadata": {
        "id": "61p3aFkcW08o"
      },
      "outputs": [],
      "source": [
        "n,m = map(int,input().split())\n",
        "graph = [[0]*n for i in range(n)]\n",
        "for i in range(m):\n",
        "    u,v,w = map(int,input().split())\n",
        "    graph[u-1][v-1] = w\n",
        "for i in range(n):\n",
        "    for j in range(n):\n",
        "        print(graph[i][j],end=\" \")\n",
        "    print()"
      ]
    },
    {
      "cell_type": "code",
      "source": [
        "n, m = map(int, input().split())\n",
        "u_list = list(map(int, input().split()))\n",
        "v_list = list(map(int, input().split()))\n",
        "w_list = list(map(int, input().split()))\n",
        "\n",
        "adj_list = [[] for _ in range(n + 1)]\n",
        "\n",
        "\n",
        "for i in range(m):\n",
        "    adj_list[u_list[i]].append((v_list[i], w_list[i]))\n",
        "\n",
        "for i in range(1, n + 1):\n",
        "    print(f\"{i}: \", end=\"\")\n",
        "    for j in range(len(adj_list[i])):\n",
        "        print(f\"({adj_list[i][j][0]},{adj_list[i][j][1]})\", end=\"\")\n",
        "        if j < len(adj_list[i]) - 1:\n",
        "            print(\" \", end=\"\")\n",
        "    print()"
      ],
      "metadata": {
        "id": "vD6lIi9uW-NV"
      },
      "execution_count": null,
      "outputs": []
    },
    {
      "cell_type": "code",
      "source": [
        "N= int(input())\n",
        "mat= [[0]*N for i in range(N)]\n",
        "for j in range(N):\n",
        "  info= list(map(int, input().split()))\n",
        "  num= info[0]\n",
        "  if num>0:\n",
        "    nodes= info[1:]\n",
        "    for n in nodes:\n",
        "      mat[j][n] = 1\n",
        "\n",
        "\n",
        "for row in mat:\n",
        "  print(' '.join(map(str,row)))"
      ],
      "metadata": {
        "id": "TgBtyF6RW-F1"
      },
      "execution_count": null,
      "outputs": []
    },
    {
      "cell_type": "code",
      "source": [
        "\n",
        "N,M= map(int,input().split())\n",
        "deg= [0]*(N+1)\n",
        "ulist= list(map(int,input().split()))\n",
        "vlist= list(map(int,input().split()))\n",
        "\n",
        "for i in range(M):\n",
        "  a,b= ulist[i],vlist[i]\n",
        "  deg[a]+= 1\n",
        "  deg[b]+= 1\n",
        "\n",
        "count= 0\n",
        "for i in range(N+1):\n",
        "  if deg[i]%2!= 0:\n",
        "    count+= 1\n",
        "if count== 0 or count== 2:\n",
        "  print(\"YES\")\n",
        "else:\n",
        "  print(\"NO\")"
      ],
      "metadata": {
        "id": "aMM3sECMW-Cq"
      },
      "execution_count": null,
      "outputs": []
    },
    {
      "cell_type": "code",
      "source": [
        "n,m = map(int,input().split())\n",
        "u= list(map(int,input().split()))\n",
        "v= list(map(int,input().split()))\n",
        "d1= [0]*(n+1)\n",
        "d2= [0]*(n+1)\n",
        "\n",
        "for i in range(m):\n",
        "  a= u[i]\n",
        "  b= v[i]\n",
        "  d1[a]+= 1\n",
        "  d2[b]+= 1\n",
        "\n",
        "result = []\n",
        "for j in range(1,n+1):\n",
        "  result.append(d2[j]-d1[j])\n",
        "\n",
        "print(' '.join(map(str,result)))"
      ],
      "metadata": {
        "id": "agyILDhWW98I"
      },
      "execution_count": null,
      "outputs": []
    },
    {
      "cell_type": "code",
      "source": [
        "n = int(input())\n",
        "x,y = map(int,input().split())\n",
        "moves = [(-1,-1),(-1,0),(-1,1),(0,-1),(0,1),(1,-1),(1,0),(1,1)]\n",
        "move_valid = []\n",
        "\n",
        "for i,j in moves:\n",
        "    x1 = x + i\n",
        "    y1 = y + j\n",
        "    if 1<=x1<=n and 1<=y1<=n:\n",
        "        move_valid.append((x1,y1))\n",
        "\n",
        "move_valid.sort()\n",
        "print(len(move_valid))\n",
        "for k in move_valid:\n",
        "    print(k[0],k[1])"
      ],
      "metadata": {
        "id": "1RoP3KVCW9wZ"
      },
      "execution_count": null,
      "outputs": []
    },
    {
      "cell_type": "code",
      "source": [
        "def knight_of_konigs(N,M,K,p):\n",
        "    moves_valid=[(-2,-1),(-2,1),(-1,-2),(-1,2),(1,-2),(1,2),(2,-1),(2,1)]\n",
        "    a=set(p)\n",
        "    for i,j in p:\n",
        "        for x,y in moves_valid:\n",
        "            b,c=i+x,j+y\n",
        "            if (b,c) in a:\n",
        "                print(\"YES\")\n",
        "                return\n",
        "    print(\"NO\")\n",
        "N,M,K=map(int, input().split())\n",
        "p=[]\n",
        "for i in range(K):\n",
        "    X,Y=map(int,input().split())\n",
        "    p.append((X,Y))\n",
        "knight_of_konigs(N,M,K,p)"
      ],
      "metadata": {
        "id": "JhC_Kt97W9tP"
      },
      "execution_count": null,
      "outputs": []
    },
    {
      "cell_type": "code",
      "source": [],
      "metadata": {
        "id": "znwTP61FXls7"
      },
      "execution_count": null,
      "outputs": []
    },
    {
      "cell_type": "code",
      "source": [],
      "metadata": {
        "id": "oT9mO_ucXl39"
      },
      "execution_count": null,
      "outputs": []
    }
  ]
}