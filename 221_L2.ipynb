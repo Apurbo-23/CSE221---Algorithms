{
  "nbformat": 4,
  "nbformat_minor": 0,
  "metadata": {
    "colab": {
      "provenance": [],
      "authorship_tag": "ABX9TyNECicU95Aep9Z03Izix4Fa"
    },
    "kernelspec": {
      "name": "python3",
      "display_name": "Python 3"
    },
    "language_info": {
      "name": "python"
    }
  },
  "cells": [
    {
      "cell_type": "code",
      "execution_count": null,
      "metadata": {
        "id": "XLfZd15_R0yi"
      },
      "outputs": [],
      "source": [
        "str_1 = input().split()\n",
        "N,S = int(str_1[0]),int(str_1[1])\n",
        "str_2 = input().split()\n",
        "arr = [int(i) for i in str_2]\n",
        "left = 0\n",
        "right = len(arr)-1\n",
        "while left<right:\n",
        "    if arr[left]+arr[right]==S:\n",
        "        print(f\"{left+1} {right+1}\")\n",
        "        break\n",
        "    elif arr[left]+arr[right]<S:\n",
        "        left += 1\n",
        "    else:\n",
        "        right -= 1\n",
        "else:\n",
        "    print(-1)"
      ]
    },
    {
      "cell_type": "code",
      "source": [
        "n,k = input().split()\n",
        "num_list = input().split()\n",
        "current_sum = 0\n",
        "left = 0\n",
        "max_length = 0\n",
        "\n",
        "for right in range(len(num_list)):\n",
        "    current_sum += int(num_list[right])\n",
        "    while current_sum>int(k):\n",
        "        current_sum -= int(num_list[left])\n",
        "        left += 1\n",
        "    if (right-left)+1>max_length:\n",
        "        max_length = (right-left)+1\n",
        "\n",
        "print(max_length)"
      ],
      "metadata": {
        "id": "tW8Y2iN6R9qF"
      },
      "execution_count": null,
      "outputs": []
    },
    {
      "cell_type": "code",
      "source": [
        "t = int(input())\n",
        "test_cases = list()\n",
        "for i in range(t):\n",
        "    test_cases.append(input())\n",
        "\n",
        "def find_1_character(test_cases):\n",
        "    results = []\n",
        "    for j in test_cases:\n",
        "        left, right = 0, len(j)-1\n",
        "        while left<=right:\n",
        "            mid = (left+right)//2\n",
        "            if j[mid] == \"1\":\n",
        "                if mid == 0 or j[mid-1] == \"0\":\n",
        "                    results.append(mid+1)\n",
        "                    break\n",
        "                right = mid - 1\n",
        "            else:\n",
        "                left = mid + 1\n",
        "        else:\n",
        "            results.append(-1)\n",
        "    return results\n",
        "\n",
        "result = find_1_character(test_cases)\n",
        "for k in result:\n",
        "    print(k)"
      ],
      "metadata": {
        "id": "jZOaQvVhR9gg"
      },
      "execution_count": null,
      "outputs": []
    },
    {
      "cell_type": "code",
      "source": [
        "N = int(input())\n",
        "str_2 = input().split()\n",
        "arr1 = [int(i) for i in str_2]\n",
        "\n",
        "M = int(input())\n",
        "str_3 = input().split()\n",
        "arr2 = [int(i) for i in str_3]\n",
        "\n",
        "arr = []\n",
        "\n",
        "i = 0\n",
        "j = 0\n",
        "\n",
        "\n",
        "while i < N and j < M:\n",
        "    if arr1[i] <= arr2[j]:\n",
        "        arr.append(arr1[i])\n",
        "        i += 1\n",
        "    else:\n",
        "        arr.append(arr2[j])\n",
        "        j += 1\n",
        "\n",
        "\n",
        "while i < N:\n",
        "    arr.append(arr1[i])\n",
        "    i += 1\n",
        "\n",
        "while j < M:\n",
        "    arr.append(arr2[j])\n",
        "    j += 1\n",
        "\n",
        "for i in arr:\n",
        "    print(i,end=\" \")\n",
        "\n",
        ""
      ],
      "metadata": {
        "id": "CCHa7ZEUSFdI"
      },
      "execution_count": null,
      "outputs": []
    },
    {
      "cell_type": "code",
      "source": [
        "n, q = input().split()\n",
        "sorted_arr = input().split()\n",
        "\n",
        "def counting_the_number(arr, x, flag):\n",
        "    left, right = 0, len(arr)\n",
        "    while left < right:\n",
        "        mid = (left + right) // 2\n",
        "        if flag == 1:\n",
        "            if int(arr[mid]) <= int(x):\n",
        "                left = mid + 1\n",
        "            else:\n",
        "                right = mid\n",
        "        else:\n",
        "            if int(arr[mid]) < int(x):\n",
        "                left = mid + 1\n",
        "            else:\n",
        "                right = mid\n",
        "    return left\n",
        "\n",
        "result = []\n",
        "for i in range(int(q)):\n",
        "    x, y = input().split()\n",
        "    count = counting_the_number(sorted_arr, int(y), 1) - counting_the_number(sorted_arr, int(x), 0)\n",
        "    result.append(count)\n",
        "\n",
        "for result in result:\n",
        "    print(result)"
      ],
      "metadata": {
        "id": "u3Bj_ZkdTRCt"
      },
      "execution_count": null,
      "outputs": []
    },
    {
      "cell_type": "code",
      "source": [],
      "metadata": {
        "id": "6U3fOQA5TRMf"
      },
      "execution_count": null,
      "outputs": []
    }
  ]
}