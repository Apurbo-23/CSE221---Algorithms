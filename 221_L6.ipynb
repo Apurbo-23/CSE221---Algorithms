{
  "nbformat": 4,
  "nbformat_minor": 0,
  "metadata": {
    "colab": {
      "provenance": [],
      "authorship_tag": "ABX9TyNT2pF+8CnJOlUXU+Vn7fN/"
    },
    "kernelspec": {
      "name": "python3",
      "display_name": "Python 3"
    },
    "language_info": {
      "name": "python"
    }
  },
  "cells": [
    {
      "cell_type": "code",
      "execution_count": null,
      "metadata": {
        "id": "nin7jV-ZEIw9",
        "colab": {
          "base_uri": "https://localhost:8080/"
        },
        "outputId": "eda49092-2496-4d0f-cbea-193aa8d80eac"
      },
      "outputs": [
        {
          "output_type": "stream",
          "name": "stdout",
          "text": [
            "5 4\n",
            "2 4\n",
            "2 5\n",
            "4  3\n",
            "1 5\n",
            "1 2 4 5 3\n"
          ]
        }
      ],
      "source": [
        "from collections import defaultdict, deque\n",
        "\n",
        "def advising():\n",
        "    N, M = map(int, input().split())\n",
        "    graph = defaultdict(list)\n",
        "    in_degree = [0] * (N + 1)\n",
        "\n",
        "    for _ in range(M):\n",
        "        A, B = map(int, input().split())\n",
        "        graph[A].append(B)\n",
        "        in_degree[B] += 1\n",
        "\n",
        "    queue = deque([i for i in range(1, N + 1) if in_degree[i] == 0])\n",
        "    result = []\n",
        "\n",
        "    while queue:\n",
        "        course = queue.popleft()\n",
        "        result.append(course)\n",
        "\n",
        "        for neighbor in graph[course]:\n",
        "            in_degree[neighbor] -= 1\n",
        "            if in_degree[neighbor] == 0:\n",
        "                queue.append(neighbor)\n",
        "\n",
        "    if len(result) == N:\n",
        "        print(*result)\n",
        "    else:\n",
        "        print(-1)\n",
        "\n",
        "advising()"
      ]
    },
    {
      "cell_type": "code",
      "source": [
        "from collections import defaultdict, deque\n",
        "\n",
        "def match():\n",
        "    N, M = map(int, input().split())\n",
        "    graph = defaultdict(list)\n",
        "    for _ in range(M):\n",
        "        u, v = map(int, input().split())\n",
        "        graph[u].append(v)\n",
        "        graph[v].append(u)\n",
        "\n",
        "    visited = [0] * (N + 1)\n",
        "    color = [0] * (N + 1)\n",
        "    max_count = 0\n",
        "\n",
        "    for i in range(1, N + 1):\n",
        "        if visited[i] == 0:\n",
        "            queue = deque([i])\n",
        "            visited[i] = 1\n",
        "            color[i] = 1\n",
        "            count1 = 0\n",
        "            count2 = 0\n",
        "            is_bipartite = True\n",
        "\n",
        "            while queue:\n",
        "                u = queue.popleft()\n",
        "                if color[u] == 1:\n",
        "                    count1 += 1\n",
        "                else:\n",
        "                    count2 += 1\n",
        "\n",
        "                for v in graph[u]:\n",
        "                    if visited[v] == 0:\n",
        "                        visited[v] = 1\n",
        "                        color[v] = 3 - color[u]\n",
        "                        queue.append(v)\n",
        "                    elif color[v] == color[u]:\n",
        "                        is_bipartite = False\n",
        "\n",
        "            if is_bipartite:\n",
        "                max_count += max(count1, count2)\n",
        "\n",
        "    print(max_count)\n",
        "\n",
        "match()"
      ],
      "metadata": {
        "colab": {
          "base_uri": "https://localhost:8080/"
        },
        "id": "wxAUPBTMGYVy",
        "outputId": "65affcdf-1eb8-4ff0-9e36-aceeecee3fa5"
      },
      "execution_count": null,
      "outputs": [
        {
          "output_type": "stream",
          "name": "stdout",
          "text": [
            "5 6\n",
            "3 4\n",
            "3 2\n",
            "5 4\n",
            "5 2\n",
            "4 1\n",
            "1 2\n",
            "3\n"
          ]
        }
      ]
    },
    {
      "cell_type": "code",
      "source": [
        "from collections import deque\n",
        "\n",
        "def is_valid(x, y, N):\n",
        "    return 1 <= x <= N and 1 <= y <= N\n",
        "\n",
        "def knight():\n",
        "    N = int(input())\n",
        "    x1, y1, x2, y2 = map(int, input().split())\n",
        "\n",
        "    x1 -= 1\n",
        "    y1 -= 1\n",
        "    x2 -= 1\n",
        "    y2 -= 1\n",
        "\n",
        "    dx = [-2, -2, -1, -1, 1, 1, 2, 2]\n",
        "    dy = [-1, 1, -2, 2, -2, 2, -1, 1]\n",
        "\n",
        "\n",
        "    dist = [[-1 for _ in range(N)] for _ in range(N)]\n",
        "\n",
        "    queue = deque([(x1, y1)])\n",
        "    dist[x1][y1] = 0\n",
        "\n",
        "    while queue:\n",
        "        x, y = queue.popleft()\n",
        "\n",
        "        if x == x2 and y == y2:\n",
        "            print(dist[x][y])\n",
        "            return\n",
        "\n",
        "        for i in range(8):\n",
        "            new_x, new_y = x + dx[i], y + dy[i]\n",
        "\n",
        "\n",
        "            if 0 <= new_x < N and 0 <= new_y < N and dist[new_x][new_y] == -1:\n",
        "                dist[new_x][new_y] = dist[x][y] + 1\n",
        "                queue.append((new_x, new_y))\n",
        "\n",
        "    print(-1)\n",
        "\n",
        "knight()"
      ],
      "metadata": {
        "colab": {
          "base_uri": "https://localhost:8080/"
        },
        "id": "LDoiNDTVTw-P",
        "outputId": "c6168f30-6f60-498d-ccd6-c0ab122cc1c4"
      },
      "execution_count": null,
      "outputs": [
        {
          "output_type": "stream",
          "name": "stdout",
          "text": [
            "10\n",
            "8 4 3 1\n",
            "4\n"
          ]
        }
      ]
    },
    {
      "cell_type": "code",
      "source": [
        "from collections import defaultdict, deque\n",
        "\n",
        "def bfs(start_node, N, graph):\n",
        "    dist = [-1] * (N + 1)\n",
        "    queue = deque([start_node])\n",
        "    dist[start_node] = 0\n",
        "    farthest_node = start_node\n",
        "    max_dist = 0\n",
        "\n",
        "    while queue:\n",
        "        u = queue.popleft()\n",
        "\n",
        "        if dist[u] > max_dist:\n",
        "            max_dist = dist[u]\n",
        "            farthest_node = u\n",
        "\n",
        "        for v in graph[u]:\n",
        "            if dist[v] == -1:\n",
        "                dist[v] = dist[u] + 1\n",
        "                queue.append(v)\n",
        "\n",
        "    return farthest_node, max_dist, dist\n",
        "\n",
        "def diameter():\n",
        "    N = int(input())\n",
        "    graph = defaultdict(list)\n",
        "    for _ in range(N - 1):\n",
        "        u, v = map(int, input().split())\n",
        "        graph[u].append(v)\n",
        "        graph[v].append(u)\n",
        "\n",
        "\n",
        "    node_a, _, _ = bfs(1, N, graph)\n",
        "\n",
        "\n",
        "    node_b, diameter, dist_from_a = bfs(node_a, N, graph)\n",
        "\n",
        "    print(diameter)\n",
        "    print(node_a, node_b)\n",
        "\n",
        "diameter()"
      ],
      "metadata": {
        "colab": {
          "base_uri": "https://localhost:8080/"
        },
        "id": "9m8N6turzvD-",
        "outputId": "c07b1912-4ae6-4b37-cd84-cb7bd04ba2b0"
      },
      "execution_count": null,
      "outputs": [
        {
          "output_type": "stream",
          "name": "stdout",
          "text": [
            "5\n",
            "5 1\n",
            "1 4\n",
            "4 2\n",
            "3 2\n",
            "4\n",
            "3 5\n"
          ]
        }
      ]
    },
    {
      "cell_type": "code",
      "metadata": {
        "colab": {
          "base_uri": "https://localhost:8080/"
        },
        "id": "cdc70473",
        "outputId": "63d8146e-195b-40c7-99b7-e9c32cb659a4"
      },
      "source": [
        "from collections import defaultdict, deque\n",
        "\n",
        "def ancient():\n",
        "    N = int(input())\n",
        "    words = [input() for _ in range(N)]\n",
        "\n",
        "    graph = defaultdict(list)\n",
        "    in_degree = defaultdict(int)\n",
        "    chars = set()\n",
        "\n",
        "    for word in words:\n",
        "        for char in word:\n",
        "            chars.add(char)\n",
        "\n",
        "    for i in range(N - 1):\n",
        "        word1 = words[i]\n",
        "        word2 = words[i + 1]\n",
        "        min_len = min(len(word1), len(word2))\n",
        "        found_diff = False\n",
        "        for j in range(min_len):\n",
        "            if word1[j] != word2[j]:\n",
        "                if word2[j] not in graph[word1[j]]:\n",
        "                    graph[word1[j]].append(word2[j])\n",
        "                    in_degree[word2[j]] += 1\n",
        "                found_diff = True\n",
        "                break\n",
        "        if not found_diff and len(word1) > len(word2):\n",
        "            print(-1)\n",
        "            return\n",
        "\n",
        "\n",
        "    queue = deque(sorted([char for char in chars if in_degree[char] == 0]))\n",
        "    result = []\n",
        "\n",
        "    while queue:\n",
        "        char = queue.popleft()\n",
        "        result.append(char)\n",
        "\n",
        "\n",
        "        for neighbor in sorted(graph[char]):\n",
        "            in_degree[neighbor] -= 1\n",
        "            if in_degree[neighbor] == 0:\n",
        "                queue.append(neighbor)\n",
        "\n",
        "        queue = deque(sorted(list(queue)))\n",
        "\n",
        "\n",
        "    if len(result) == len(chars):\n",
        "        print(\"\".join(result))\n",
        "    else:\n",
        "\n",
        "        if len(result) < len(chars):\n",
        "             print(-1)\n",
        "        else:\n",
        "             print(\"\".join(result))\n",
        "\n",
        "\n",
        "ancient()"
      ],
      "execution_count": null,
      "outputs": [
        {
          "output_type": "stream",
          "name": "stdout",
          "text": [
            "6\n",
            "gef\n",
            "gie\n",
            "hf\n",
            "hd\n",
            "hc\n",
            "ha\n",
            "efdcaghi\n"
          ]
        }
      ]
    },
    {
      "cell_type": "code",
      "source": [
        "from collections import defaultdict, deque\n",
        "\n",
        "def shortest_paths():\n",
        "    N, M, S, Q = map(int, input().split())\n",
        "    graph = defaultdict(list)\n",
        "    for _ in range(M):\n",
        "        u, v = map(int, input().split())\n",
        "        graph[u].append(v)\n",
        "        graph[v].append(u)\n",
        "\n",
        "    sources = list(map(int, input().split()))\n",
        "    destinations = list(map(int, input().split()))\n",
        "\n",
        "    dist = [-1] * (N + 1)\n",
        "    queue = deque()\n",
        "\n",
        "    for source in sources:\n",
        "        dist[source] = 0\n",
        "        queue.append(source)\n",
        "\n",
        "    while queue:\n",
        "        u = queue.popleft()\n",
        "\n",
        "        for v in graph[u]:\n",
        "            if dist[v] == -1:\n",
        "                dist[v] = dist[u] + 1\n",
        "                queue.append(v)\n",
        "\n",
        "    results = []\n",
        "    for dest in destinations:\n",
        "        results.append(dist[dest])\n",
        "\n",
        "    print(*results)\n",
        "\n",
        "shortest_paths()\n"
      ],
      "metadata": {
        "colab": {
          "base_uri": "https://localhost:8080/"
        },
        "id": "JF9Kwrw3Jucc",
        "outputId": "db305fa5-b8c6-4ed2-e63a-17d528f28bdd"
      },
      "execution_count": null,
      "outputs": [
        {
          "output_type": "stream",
          "name": "stdout",
          "text": [
            "18 17 4 10\n",
            "1 2\n",
            "2 3\n",
            "3 4\n",
            "4 1\n",
            "3 5\n",
            "5 6\n",
            "6 7\n",
            "8 9\n",
            "9 10\n",
            "10 8\n",
            "10 11\n",
            "11 12\n",
            "9 13\n",
            "13 14\n",
            "15 16\n",
            "16 17\n",
            "17 15\n",
            "15 1 6 8\n",
            "14 3 10 7 1 12 11 5 18 16\n",
            "3 2 1 1 0 3 2 1 -1 1\n"
          ]
        }
      ]
    }
  ]
}