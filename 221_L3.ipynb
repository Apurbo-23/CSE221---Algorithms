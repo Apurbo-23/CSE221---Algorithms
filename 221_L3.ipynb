{
  "nbformat": 4,
  "nbformat_minor": 0,
  "metadata": {
    "colab": {
      "provenance": [],
      "authorship_tag": "ABX9TyMJ6YiKbYQVnWVBTstOad74"
    },
    "kernelspec": {
      "name": "python3",
      "display_name": "Python 3"
    },
    "language_info": {
      "name": "python"
    }
  },
  "cells": [
    {
      "cell_type": "code",
      "execution_count": null,
      "metadata": {
        "id": "UPMnznOxTxzT"
      },
      "outputs": [],
      "source": [
        "def merge(a,b):\n",
        "    inv = 0\n",
        "    sorted_arr = []\n",
        "    i = 0\n",
        "    j = 0\n",
        "    while i<len(a) and j<len(b):\n",
        "        if a[i] <= b[j]:\n",
        "            sorted_arr.append(a[i])\n",
        "            i += 1\n",
        "        else:\n",
        "            sorted_arr.append(b[j])\n",
        "            inv += len(a) - i\n",
        "            j += 1\n",
        "\n",
        "    sorted_arr.extend(a[i:])\n",
        "    sorted_arr.extend(b[j:])\n",
        "\n",
        "    return sorted_arr, inv\n",
        "\n",
        "def mergeSort(arr):\n",
        "    if len(arr) <= 1:\n",
        "        return arr, 0\n",
        "    else:\n",
        "      mid = len(arr)//2\n",
        "      l,inv1 = mergeSort(arr[:mid])\n",
        "      r,inv2 = mergeSort(arr[mid:])\n",
        "      merged, merge_inv = merge(l,r)\n",
        "      inv = inv1 + inv2 + merge_inv\n",
        "      return merged, inv\n",
        "\n",
        "n = int(input())\n",
        "arr = list(map(int,input().split()))\n",
        "final_arr, inversions = mergeSort(arr)\n",
        "print(inversions)\n",
        "print(\" \".join(map(str, final_arr)))"
      ]
    },
    {
      "cell_type": "code",
      "source": [
        "import bisect\n",
        "def count(x, y):\n",
        "    sum = 0\n",
        "    y2 = [value**2 for value in y]\n",
        "    y2.sort()\n",
        "    for value in x:\n",
        "        sum+=bisect.bisect_left(y2, value)\n",
        "    return sum\n",
        "def count_sort(arr):\n",
        "    if len(arr)<= 1:\n",
        "        return arr,0\n",
        "    mid=len(arr)//2\n",
        "    right,r1= count_sort(arr[mid:])\n",
        "    left,l1=count_sort(arr[:mid])\n",
        "    count1=count(left, right)\n",
        "    merged=sorted(left + right)\n",
        "    return merged,count1+l1+r1\n",
        "n=int(input())\n",
        "nums=list(map(int, input().split()))\n",
        "list_1,ans=count_sort(nums)\n",
        "print(ans)"
      ],
      "metadata": {
        "id": "KN5ZnEfwUDma"
      },
      "execution_count": null,
      "outputs": []
    },
    {
      "cell_type": "code",
      "source": [
        "def fastMod(A,B):\n",
        "    ans= 1\n",
        "    A = A%107\n",
        "    while B>0:\n",
        "        if B%2 == 1:\n",
        "            ans= (ans*A)%107\n",
        "        B //= 2\n",
        "        A = (A*A)%107\n",
        "    return ans\n",
        "\n",
        "A,B = map(int,input().split())\n",
        "res = fastMod(A,B)\n",
        "print(res)"
      ],
      "metadata": {
        "id": "9ojjt5RlUDp8"
      },
      "execution_count": null,
      "outputs": []
    },
    {
      "cell_type": "code",
      "source": [
        "def FastMod(T):\n",
        "    ans = []\n",
        "    for i in range(T):\n",
        "        a,n,m = map(int,input().split())\n",
        "        result = None\n",
        "        if a == 1:\n",
        "            mod = m\n",
        "        else:\n",
        "            mod = m*(a-1)\n",
        "\n",
        "        if a==1:\n",
        "            result = n%m\n",
        "        else:\n",
        "            result = 1\n",
        "            base = a%mod\n",
        "            exp = n+1\n",
        "            while exp>0:\n",
        "                if exp%2==1:\n",
        "                    result=(result*base)%mod\n",
        "                base =(base*base)%mod\n",
        "                exp = exp//2\n",
        "            num = (result-a)%mod\n",
        "            result = (num//(a-1))%m\n",
        "\n",
        "        ans.append(result)\n",
        "\n",
        "    for j in ans:\n",
        "        print(j)\n",
        "\n",
        "\n",
        "cases = int(input())\n",
        "FastMod(cases)"
      ],
      "metadata": {
        "id": "xXJmiN9iUbPY"
      },
      "execution_count": null,
      "outputs": []
    },
    {
      "cell_type": "code",
      "source": [
        "def BST(arr):\n",
        "    li1 = []\n",
        "    def divide(l,r):\n",
        "        if l > r:\n",
        "            return\n",
        "        mid = (l+r)//2\n",
        "        li1.append(arr[mid])\n",
        "        divide(l,mid-1)\n",
        "        divide(mid+1,r)\n",
        "    start = 0\n",
        "    end = len(arr)-1\n",
        "    divide(start,end)\n",
        "    return li1\n",
        "\n",
        "n = int(input())\n",
        "arr = list(map(int,input().split()))\n",
        "print(\" \".join(map(str,BST(arr))))"
      ],
      "metadata": {
        "id": "wzgvK_mJUbZ3"
      },
      "execution_count": null,
      "outputs": []
    },
    {
      "cell_type": "code",
      "source": [
        "def post_order(InO,PreO):\n",
        "    if not InO or not PreO:\n",
        "        return []\n",
        "    root = PreO[0]\n",
        "    ind = InO.index(root)\n",
        "    l = post_order(InO[:ind],PreO[1:ind+1])\n",
        "    r = post_order(InO[ind+1:],PreO[ind+1:])\n",
        "    return l+r+[root]\n",
        "\n",
        "\n",
        "n = int(input())\n",
        "In = list(map(int,input().split()))\n",
        "Pre = list(map(int,input().split()))\n",
        "Post = post_order(In,Pre)\n",
        "print(\" \".join(map(str, Post)))"
      ],
      "metadata": {
        "id": "0-iOuuheUDs-"
      },
      "execution_count": null,
      "outputs": []
    },
    {
      "cell_type": "code",
      "source": [],
      "metadata": {
        "id": "TwbRNmyUUDwL"
      },
      "execution_count": null,
      "outputs": []
    },
    {
      "cell_type": "code",
      "source": [],
      "metadata": {
        "id": "BUHpMxZ3UD7z"
      },
      "execution_count": null,
      "outputs": []
    },
    {
      "cell_type": "code",
      "source": [],
      "metadata": {
        "id": "yYm8UxPuUEKI"
      },
      "execution_count": null,
      "outputs": []
    }
  ]
}